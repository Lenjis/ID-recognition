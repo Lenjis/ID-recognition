{
 "cells": [
  {
   "cell_type": "code",
   "execution_count": null,
   "id": "7ef8c46c",
   "metadata": {},
   "outputs": [],
   "source": [
    "import torch.nn as nn\n",
    "\n",
    "\n",
    "class IDRecognizer(nn.Module):\n",
    "    def __init__(self, num_digits=14, num_classes=10):\n",
    "        super().__init__()\n",
    "        self.features = nn.Sequential(\n",
    "            nn.Conv2d(1, 32, 3, padding=1),\n",
    "            nn.ReLU(),\n",
    "            nn.MaxPool2d(2),  # 25x100\n",
    "            nn.Conv2d(32, 64, 3, padding=1),\n",
    "            nn.ReLU(),\n",
    "            nn.MaxPool2d(2),  # 12x50\n",
    "        )\n",
    "        self.classifiers = nn.ModuleList(\n",
    "            [\n",
    "                nn.Sequential(\n",
    "                    nn.Linear(64 * 12 * 5, 128), nn.ReLU(), nn.Linear(128, num_classes)\n",
    "                )\n",
    "                for _ in range(num_digits)\n",
    "            ]\n",
    "        )\n",
    "\n",
    "    def forward(self, x):\n",
    "        x = self.features(x)  # [B, 64, 12, 5]\n",
    "        x = x.view(x.size(0), -1)  # [B, 64*12*5]\n",
    "        out = [classifier(x) for classifier in self.classifiers]\n",
    "        return out  # list of [B, num_classes]\n"
   ]
  }
 ],
 "metadata": {
  "kernelspec": {
   "display_name": "IDrecog",
   "language": "python",
   "name": "python3"
  },
  "language_info": {
   "name": "python",
   "version": "3.13.3"
  }
 },
 "nbformat": 4,
 "nbformat_minor": 5
}
